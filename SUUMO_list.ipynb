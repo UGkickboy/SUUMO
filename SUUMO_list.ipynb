{
 "cells": [
  {
   "cell_type": "code",
   "execution_count": 1,
   "metadata": {},
   "outputs": [],
   "source": [
    "from bs4 import BeautifulSoup\n",
    "import requests"
   ]
  },
  {
   "cell_type": "code",
   "execution_count": 2,
   "metadata": {},
   "outputs": [
    {
     "name": "stdout",
     "output_type": "stream",
     "text": [
      "https://suumo.jp/chintai/tokyo/sc_shinjuku/?page=1\n"
     ]
    }
   ],
   "source": [
    "# 変数urlにSUUMOホームページのURLを格納\n",
    "url = \"https://suumo.jp/chintai/tokyo/sc_shinjuku/?page={}\"\n",
    "\n",
    "# アクセスするためのURLをtarget_urlに格納する\n",
    "target_url = url.format(1)\n",
    "\n",
    "print(target_url)\n",
    "\n",
    "# target_urlへのアクセス結果を変数rに格納\n",
    "r = requests.get(target_url)\n",
    "\n",
    "# 取得結果を解析してBeautifulSoupに格納\n",
    "soup = BeautifulSoup(r.text)\n",
    "\n",
    "contents = soup.find_all('div', class_='cassetteitem')"
   ]
  },
  {
   "cell_type": "code",
   "execution_count": 3,
   "metadata": {},
   "outputs": [],
   "source": [
    "page = soup.select_one('ol.pagination-parts li:last-child a').text\n",
    "page_max = int(page)\n",
    "\n",
    "d_list = []\n",
    "contents = soup.find_all('div', class_='cassetteitem')\n",
    "\n",
    "for page_number in range(1, page_max):\n",
    "    page_url = url.format(page_number)\n",
    "    page_response = requests.get(page_url)\n",
    "\n",
    "    for content in contents:\n",
    "        detail = content.find('div', class_='cassetteitem-detail')\n",
    "        table = content.find('table', class_='cassetteitem_other')\n",
    "\n",
    "        title = detail.find('div', class_='cassetteitem_content-title').text.replace('\\n','').replace('\\r','').replace('\\t','').replace('\\u3000','')\n",
    "        address = detail.find('li', class_='cassetteitem_detail-col1').text.replace('\\n','').replace('\\r','').replace('\\t','').replace('\\u3000','')\n",
    "        access = detail.find('li', class_='cassetteitem_detail-col2').text.replace('\\n','').replace('\\r','').replace('\\t','').replace('\\u3000','')\n",
    "        age = detail.find('li', class_='cassetteitem_detail-col3').text.replace('\\n','').replace('\\r','').replace('\\t','').replace('\\u3000',''),\n",
    "\n",
    "        tr_tags = table.find_all('tr', class_='js-cassette_link')\n",
    "        \n",
    "        for tr_tag in tr_tags:\n",
    "            floor, price, first_fee, capacity = tr_tag.find_all('td')[2:6]\n",
    "            fee, management_fee = price.find_all('li')\n",
    "            deposit, gratuity = first_fee.find_all('li')\n",
    "            madori, menseki = capacity.find_all('li')\n",
    "            \n",
    "            d =  {\n",
    "                'title': title,\n",
    "                'address': address,\n",
    "                'access': access,\n",
    "                'age': age,\n",
    "                'floor': floor.text.replace('\\n','').replace('\\r','').replace('\\t','').replace('\\u3000',''),\n",
    "                'fee': fee.text,\n",
    "                'management_fee': management_fee.text,\n",
    "                'deposit': deposit.text,\n",
    "                'gratuity': gratuity.text,\n",
    "                'madori': madori.text,\n",
    "                'menseki': menseki.text\n",
    "            }\n",
    "\n",
    "            d_list.append(d)"
   ]
  },
  {
   "cell_type": "code",
   "execution_count": 4,
   "metadata": {},
   "outputs": [],
   "source": [
    "# pandasでデータフレームに入れて、csvで出力\n",
    "import pandas as pd\n",
    "df = pd.DataFrame(d_list)\n",
    "df.to_csv('house_list.csv')"
   ]
  },
  {
   "cell_type": "code",
   "execution_count": null,
   "metadata": {},
   "outputs": [],
   "source": []
  }
 ],
 "metadata": {
  "kernelspec": {
   "display_name": "Python 3",
   "language": "python",
   "name": "python3"
  },
  "language_info": {
   "codemirror_mode": {
    "name": "ipython",
    "version": 3
   },
   "file_extension": ".py",
   "mimetype": "text/x-python",
   "name": "python",
   "nbconvert_exporter": "python",
   "pygments_lexer": "ipython3",
   "version": "3.11.4"
  }
 },
 "nbformat": 4,
 "nbformat_minor": 2
}
