{
 "cells": [
  {
   "cell_type": "code",
   "execution_count": 1,
   "metadata": {},
   "outputs": [],
   "source": [
    "from bs4 import BeautifulSoup\n",
    "import requests"
   ]
  },
  {
   "cell_type": "code",
   "execution_count": 4,
   "metadata": {},
   "outputs": [
    {
     "name": "stdout",
     "output_type": "stream",
     "text": [
      "https://suumo.jp/osaka/sc_osakashihigashinari/pnz11.html\n"
     ]
    }
   ],
   "source": [
    "# 変数urlにSUUMOホームページのURLを格納\n",
    "url = \"https://suumo.jp/osaka/sc_osakashihigashinari/pnz1{}.html\"\n",
    "\n",
    "# アクセスするためのURLをtarget_urlに格納する\n",
    "target_url = url.format(1)\n",
    "\n",
    "print(target_url)\n",
    "\n",
    "# target_urlへのアクセス結果を変数rに格納\n",
    "r = requests.get(target_url)\n",
    "\n",
    "# 取得結果を解析してBeautifulSoupに格納\n",
    "soup = BeautifulSoup(r.text)\n",
    "\n",
    "contents = soup.find_all('div', class_='cassettebox')"
   ]
  },
  {
   "cell_type": "code",
   "execution_count": 20,
   "metadata": {},
   "outputs": [],
   "source": [
    "\n",
    "page = soup.select_one('ol.pagination-parts li:last-child a').text\n",
    "page_max = int(page)\n",
    "\n",
    "d_list = []\n",
    "contents = soup.find_all('div', class_='cassettebox')\n",
    "\n",
    "for page_number in range(1, page_max):\n",
    "    page_url = url.format(page_number)\n",
    "    page_response = requests.get(page_url)\n",
    "\n",
    "    for content in contents:\n",
    "        title = content.find('a', class_='js-cassetLinkHref').text\n",
    "        table = content.find('div', class_='infodatabox-boxgroup')\n",
    "\n",
    "        div_elements = table.find_all('div', class_='infodatabox-box-txt')\n",
    "\n",
    "    # テキスト情報を格納するリスト\n",
    "        text_list = []\n",
    "\n",
    "    # div要素の数だけループ\n",
    "        for div_element in div_elements:\n",
    "        # テキスト情報をリストに追加\n",
    "            text_list.append(div_element.text.strip())\n",
    "\n",
    "        address, station, access, price, capacity, age = text_list\n",
    "\n",
    "        d = {\n",
    "        'title': title.replace('\\n','').replace('\\r','').replace('\\t','').replace('\\u3000',''),\n",
    "        'address': address.replace('\\n','').replace('\\r','').replace('\\t','').replace('\\u3000',''),\n",
    "        'station': station.replace('\\n','').replace('\\r','').replace('\\t','').replace('\\u3000',''),\n",
    "        'access': access.replace('\\n','').replace('\\r','').replace('\\t','').replace('\\u3000',''),\n",
    "        'price': price.replace('\\n','').replace('\\r','').replace('\\t','').replace('\\u3000',''),\n",
    "        'capacity': capacity.replace('\\n','').replace('\\r','').replace('\\t','').replace('\\u3000',''),\n",
    "        'age': age.replace('\\n','').replace('\\r','').replace('\\t','').replace('\\u3000','')\n",
    "        }\n",
    "\n",
    "        d_list.append(d)"
   ]
  },
  {
   "cell_type": "code",
   "execution_count": 22,
   "metadata": {},
   "outputs": [],
   "source": [
    "# pandasでデータフレームに入れて、csvで出力\n",
    "import pandas as pd\n",
    "df = pd.DataFrame(d_list)\n",
    "df.to_csv('house_list.csv')"
   ]
  }
 ],
 "metadata": {
  "kernelspec": {
   "display_name": "Python 3",
   "language": "python",
   "name": "python3"
  },
  "language_info": {
   "codemirror_mode": {
    "name": "ipython",
    "version": 3
   },
   "file_extension": ".py",
   "mimetype": "text/x-python",
   "name": "python",
   "nbconvert_exporter": "python",
   "pygments_lexer": "ipython3",
   "version": "3.11.4"
  }
 },
 "nbformat": 4,
 "nbformat_minor": 2
}
