{
 "cells": [
  {
   "cell_type": "code",
   "execution_count": 1,
   "metadata": {},
   "outputs": [],
   "source": [
    "from bs4 import BeautifulSoup\n",
    "import requests\n",
    "import pandas as pd"
   ]
  },
  {
   "cell_type": "code",
   "execution_count": 2,
   "metadata": {},
   "outputs": [
    {
     "name": "stdout",
     "output_type": "stream",
     "text": [
      "https://suumo.jp/chintai/tokyo/sc_shinjuku/?page=1\n"
     ]
    }
   ],
   "source": [
    "# 変数urlにSUUMOホームページのURLを格納\n",
    "url = \"https://suumo.jp/chintai/tokyo/sc_shinjuku/?page={}\"\n",
    "\n",
    "# アクセスするためのURLをtarget_urlに格納する\n",
    "target_url = url.format(1)\n",
    "\n",
    "print(target_url)\n",
    "\n",
    "# target_urlへのアクセス結果を変数rに格納\n",
    "r = requests.get(target_url)\n",
    "\n",
    "# 取得結果を解析してBeautifulSoupに格納\n",
    "soup = BeautifulSoup(r.text)\n",
    "\n",
    "contents = soup.find_all('div', class_='cassetteitem')"
   ]
  },
  {
   "cell_type": "code",
   "execution_count": 3,
   "metadata": {},
   "outputs": [],
   "source": [
    "page = soup.select_one('ol.pagination-parts li:last-child a').text\n",
    "page_max = int(page)\n",
    "\n",
    "d_list = []\n",
    "contents = soup.find_all('div', class_='cassetteitem')\n",
    "\n",
    "for page_number in range(1, page_max):\n",
    "    page_url = url.format(page_number)\n",
    "    page_response = requests.get(page_url)\n",
    "\n",
    "    for content in contents:\n",
    "        detail = content.find('div', class_='cassetteitem-detail')\n",
    "        table = content.find('table', class_='cassetteitem_other')\n",
    "\n",
    "        title = detail.find('div', class_='cassetteitem_content-title').text.replace('\\n','').replace('\\r','').replace('\\t','').replace('\\u3000','')\n",
    "        address = detail.find('li', class_='cassetteitem_detail-col1').text.replace('\\n','').replace('\\r','').replace('\\t','').replace('\\u3000','')\n",
    "        access = detail.find('li', class_='cassetteitem_detail-col2').text.replace('\\n','').replace('\\r','').replace('\\t','').replace('\\u3000','')\n",
    "        age = detail.find('li', class_='cassetteitem_detail-col3').text.replace('\\n','').replace('\\r','').replace('\\t','').replace('\\u3000',''),\n",
    "\n",
    "        tr_tags = table.find_all('tr', class_='js-cassette_link')\n",
    "        \n",
    "        for tr_tag in tr_tags:\n",
    "            floor, price, first_fee, capacity = tr_tag.find_all('td')[2:6]\n",
    "            fee, management_fee = price.find_all('li')\n",
    "            deposit, gratuity = first_fee.find_all('li')\n",
    "            madori, menseki = capacity.find_all('li')\n",
    "            \n",
    "            d =  {\n",
    "                'title': title,\n",
    "                'address': address,\n",
    "                'access': access,\n",
    "                'age': age,\n",
    "                'floor': floor.text.replace('\\n','').replace('\\r','').replace('\\t','').replace('\\u3000',''),\n",
    "                'fee': fee.text,\n",
    "                'management_fee': management_fee.text,\n",
    "                'deposit': deposit.text,\n",
    "                'gratuity': gratuity.text,\n",
    "                'madori': madori.text,\n",
    "                'menseki': menseki.text\n",
    "            }\n",
    "\n",
    "            d_list.append(d)"
   ]
  },
  {
   "cell_type": "code",
   "execution_count": 4,
   "metadata": {},
   "outputs": [],
   "source": [
    "df = pd.DataFrame(d_list)\n",
    "#重複を削除\n",
    "df.drop_duplicates(subset=['title','address','age','floor','menseki'], inplace=True)\n",
    "\n",
    "#データのクレンジング\n",
    "#最寄り駅を抽出\n",
    "df['station'] = df['access'].str.extract(r'/([\\u4E00-\\u9FFF]+[\\u4E00-\\u9FFFぁ-んァ-ン]*)駅')\n",
    "#築年数の数字だけ抽出\n",
    "df['age'] = df['age'].str.extract(r'築(\\d+)年')\n",
    "#管理費の金額だけ抽出\n",
    "df['management_fee'] = df['management_fee'].replace('-','0').str.replace('円', '').astype(int)\n",
    "#面積を数字だけ\n",
    "df['menseki'] = df['menseki'].astype(str).str.replace('m2','').astype(float)\n",
    "\n",
    "#家賃、敷金、礼金を金額に\n",
    "df['fee'] = df['fee'].astype(str).replace('-','0').str.replace('万円', '').astype(float)*10000\n",
    "df['deposit'] = df['deposit'].astype(str).replace('-','0').str.replace('万円', '').astype(float)*10000\n",
    "df['gratuity'] = df['gratuity'].astype(str).replace('-','0').str.replace('万円', '').astype(float)*10000\n",
    "\n",
    "df['fee'] = df['fee'].astype(int)\n",
    "df['deposit'] = df['deposit'].astype(int)\n",
    "df['gratuity'] = df['gratuity'].astype(int)"
   ]
  },
  {
   "cell_type": "code",
   "execution_count": 26,
   "metadata": {},
   "outputs": [],
   "source": [
    "#Google spreadsheet APIを操作するライブラリをインポート\n",
    "import gspread\n",
    "from gspread_dataframe import set_with_dataframe"
   ]
  },
  {
   "cell_type": "code",
   "execution_count": 31,
   "metadata": {},
   "outputs": [],
   "source": [
    "#認証の手続き。https://docs.gspread.org/en/v5.12.0/oauth2.htmlから\n",
    "from google.oauth2.service_account import Credentials\n",
    "\n",
    "scopes = [\n",
    "    'https://www.googleapis.com/auth/spreadsheets',\n",
    "    'https://www.googleapis.com/auth/drive'\n",
    "]\n",
    "\n",
    "credentials = Credentials.from_service_account_file(\n",
    "    'secretkey.json',\n",
    "    scopes=scopes\n",
    ")\n",
    "\n",
    "gc = gspread.authorize(credentials)"
   ]
  },
  {
   "cell_type": "code",
   "execution_count": 32,
   "metadata": {},
   "outputs": [],
   "source": [
    "#操作するファイルとシートを指定\n",
    "SP_SHEET_KEY = '1XTzkjgKNMJAVdrqMHikvjPNGNcvhQwBxPvVi7P6IC70'\n",
    "SP_SHEET = 'houselist'\n",
    "\n",
    "sh = gc.open_by_key(SP_SHEET_KEY)\n",
    "worksheet = sh.worksheet(SP_SHEET)"
   ]
  },
  {
   "cell_type": "code",
   "execution_count": 35,
   "metadata": {},
   "outputs": [],
   "source": [
    "#dfを指定したシートの1,1から書き込む\n",
    "set_with_dataframe(worksheet, df, row=1, col=1)"
   ]
  },
  {
   "cell_type": "code",
   "execution_count": null,
   "metadata": {},
   "outputs": [],
   "source": []
  }
 ],
 "metadata": {
  "kernelspec": {
   "display_name": "Python 3",
   "language": "python",
   "name": "python3"
  },
  "language_info": {
   "codemirror_mode": {
    "name": "ipython",
    "version": 3
   },
   "file_extension": ".py",
   "mimetype": "text/x-python",
   "name": "python",
   "nbconvert_exporter": "python",
   "pygments_lexer": "ipython3",
   "version": "3.11.4"
  }
 },
 "nbformat": 4,
 "nbformat_minor": 2
}
